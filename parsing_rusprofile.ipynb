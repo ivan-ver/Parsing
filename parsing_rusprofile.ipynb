{
 "cells": [
  {
   "cell_type": "code",
   "execution_count": null,
   "outputs": [],
   "source": [
    "import requests\n",
    "from bs4 import BeautifulSoup\n",
    "import datetime as DT\n",
    "import pymysql"
   ],
   "metadata": {
    "collapsed": false,
    "pycharm": {
     "name": "#%%\n"
    }
   }
  },
  {
   "cell_type": "code",
   "execution_count": null,
   "outputs": [],
   "source": [
    "companies=[] #Список, куда собираются все объектв компаний"
   ],
   "metadata": {
    "collapsed": false,
    "pycharm": {
     "name": "#%%\n"
    }
   }
  },
  {
   "cell_type": "code",
   "execution_count": null,
   "outputs": [],
   "source": [
    "#Для хранения данных, собранных с сайта, создал клас чоответсвующими полями\n",
    "class Company():\n",
    "    id_=None #id сразу беру с сайта, чтобы поместить объект в БД\n",
    "    name=None\n",
    "    ogrn=None\n",
    "    okpo=None\n",
    "    status=None\n",
    "    regDate=None\n",
    "    capital=None\n",
    "    \n",
    "    def __init__(self, id_):\n",
    "        self.id_=int(id_.replace('/id/',''))\n",
    "    \n",
    "    def setCapital(self, capital):\n",
    "        self.capital=int(capital.replace(' руб.','').replace(' ',''))\n",
    "        \n",
    "    def setDate(self, regDate):\n",
    "        self.regDate=DT.datetime.strptime(regDate, '%d.%m.%Y').date()\n",
    "    \n",
    "    def printInfo(self):\n",
    "        print(self.id_, self.name, self.ogrn, self.status, self.regDate, self.capital)"
   ],
   "metadata": {
    "collapsed": false,
    "pycharm": {
     "name": "#%%\n"
    }
   }
  },
  {
   "cell_type": "code",
   "execution_count": null,
   "outputs": [],
   "source": [
    "#Основной метод\n",
    "def mainParser(id_):\n",
    "    r=requests.get(mainUrl+id_)\n",
    "    compInfo=BeautifulSoup(r.content,'lxml')\n",
    "    c=Company(id_)\n",
    "    \n",
    "    c.name=compInfo.find('div',class_='company-name').text\n",
    "    c.ogrn=compInfo.find('span',{'id': 'clip_ogrn'}).text\n",
    "    c.okpo=compInfo.find('span',{'id': 'clip_okpo'}).text\n",
    "    c.status=compInfo.find('div',class_='company-status').text\n",
    "    \n",
    "    for ci in compInfo.find('div',class_='company-requisites').findAll('dl'):\n",
    "        if ci.find('dt').text=='Дата регистрации':\n",
    "            c.setDate(ci.find('dd').text)\n",
    "        if ci.find('dt').text=='Уставный капитал':\n",
    "            c.setCapital(ci.find('dd').text)\n",
    "    return c"
   ],
   "metadata": {
    "collapsed": false,
    "pycharm": {
     "name": "#%%\n"
    }
   }
  },
  {
   "cell_type": "code",
   "execution_count": null,
   "outputs": [],
   "source": [
    "mainUrl='https://www.rusprofile.ru' #Основной URL\n",
    "urls=['/codes/89220/','/codes/429110/'] #Список добавочных URL-ов"
   ],
   "metadata": {
    "collapsed": false,
    "pycharm": {
     "name": "#%%\n"
    }
   }
  },
  {
   "cell_type": "code",
   "execution_count": null,
   "outputs": [],
   "source": [
    "ids=[]\n",
    "for url in urls: #Проходимся по списку\n",
    "    j=1\n",
    "    #Т.к. список комнаний распологается на нескольких страницах, проходимся по всем\n",
    "    while(True):\n",
    "        resp=requests.get(mainUrl+url+str(j)+'/')\n",
    "        #Как только заканчиваются страницы, цикл заканчивается \n",
    "        if resp.status_code !=200:\n",
    "            break\n",
    "        pageInfo=BeautifulSoup(resp.content,'lxml')\n",
    "        #Формируется список ID всех компаний, по которым потом находится подробная информация\n",
    "        for pi in pageInfo.findAll('div',class_='company-item__title'):\n",
    "            ids.append(pi.find('a').get('href'))\n",
    "        j+=1"
   ],
   "metadata": {
    "collapsed": false,
    "pycharm": {
     "name": "#%%\n"
    }
   }
  },
  {
   "cell_type": "markdown",
   "source": [
    "Один поток"
   ],
   "metadata": {
    "collapsed": false
   }
  },
  {
   "cell_type": "code",
   "execution_count": null,
   "outputs": [],
   "source": [
    "for id_ in ids:\n",
    "    companies.append(mainParser(id_))"
   ],
   "metadata": {
    "collapsed": false,
    "pycharm": {
     "name": "#%%\n"
    }
   }
  },
  {
   "cell_type": "markdown",
   "source": [
    "Много потоков"
   ],
   "metadata": {
    "collapsed": false
   }
  },
  {
   "cell_type": "code",
   "execution_count": null,
   "outputs": [],
   "source": [
    "def addTiList(a):\n",
    "    companies.append(mainParser(a))\n",
    "\n",
    "threads = []\n",
    "for id_ in ids:\n",
    "    thread = threading.Thread(target=addTiList, args=(id_,))\n",
    "    threads.append(thread)\n",
    "    thread.start()\n",
    "for thread in threads:\n",
    "    thread.join()"
   ],
   "metadata": {
    "collapsed": false,
    "pycharm": {
     "name": "#%%\n"
    }
   }
  },
  {
   "cell_type": "markdown",
   "source": [
    "Запись в БД"
   ],
   "metadata": {
    "collapsed": false
   }
  },
  {
   "cell_type": "code",
   "execution_count": null,
   "outputs": [],
   "source": [
    "con = pymysql.connect('localhost','root','root','rusprofile')\n",
    "cursor = con.cursor()"
   ],
   "metadata": {
    "collapsed": false,
    "pycharm": {
     "name": "#%%\n"
    }
   }
  },
  {
   "cell_type": "code",
   "execution_count": null,
   "outputs": [],
   "source": [
    "createTable='CREATE TABLE companies ('+\\\n",
    "    'id INT NOT NULL,'+\\\n",
    "    'name VARCHAR(100),'+\\\n",
    "    'ogrn VARCHAR(100),'+\\\n",
    "    'okpo VARCHAR(100),'+\\\n",
    "    'status VARCHAR(100),'+\\\n",
    "    'regDate TIMESTAMP(6),'+\\\n",
    "    'capital INT,'+\\\n",
    "    'PRIMARY KEY(id))'"
   ],
   "metadata": {
    "collapsed": false,
    "pycharm": {
     "name": "#%%\n"
    }
   }
  },
  {
   "cell_type": "code",
   "execution_count": null,
   "outputs": [],
   "source": [
    "cursor.execute(createTable)"
   ],
   "metadata": {
    "collapsed": false,
    "pycharm": {
     "name": "#%%\n"
    }
   }
  },
  {
   "cell_type": "code",
   "execution_count": null,
   "outputs": [],
   "source": [
    "insertSQL='INSERT INTO companies (id, name, ogrn, okpo, status, regDate, capital) VALUES (%s, %s, %s, %s, %s, %s, %s)'"
   ],
   "metadata": {
    "collapsed": false,
    "pycharm": {
     "name": "#%%\n"
    }
   }
  },
  {
   "cell_type": "code",
   "execution_count": null,
   "outputs": [],
   "source": [
    "for i in companies:\n",
    "    cursor.execut(insertSQL,(i.id_,i.name,i.ogrn,i.okpo,i.status,i.regDate,i.capital))\n",
    "    con.commit()"
   ],
   "metadata": {
    "collapsed": false,
    "pycharm": {
     "name": "#%%\n"
    }
   }
  },
  {
   "cell_type": "code",
   "execution_count": null,
   "metadata": {
    "collapsed": true
   },
   "outputs": [],
   "source": [
    "\n"
   ]
  }
 ],
 "metadata": {
  "kernelspec": {
   "display_name": "Python 3",
   "language": "python",
   "name": "python3"
  },
  "language_info": {
   "codemirror_mode": {
    "name": "ipython",
    "version": 2
   },
   "file_extension": ".py",
   "mimetype": "text/x-python",
   "name": "python",
   "nbconvert_exporter": "python",
   "pygments_lexer": "ipython2",
   "version": "2.7.6"
  },
  "pycharm": {
   "stem_cell": {
    "cell_type": "raw",
    "source": [
     "#%"
    ],
    "metadata": {
     "collapsed": false
    }
   }
  }
 },
 "nbformat": 4,
 "nbformat_minor": 0
}