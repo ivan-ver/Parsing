{
 "cells": [
  {
   "cell_type": "code",
   "execution_count": null,
   "metadata": {
    "collapsed": true
   },
   "outputs": [],
   "source": [
    "import requests\n",
    "from bs4 import BeautifulSoup\n",
    "import datetime as DT\n",
    "import pymysql\n",
    "import threading\n",
    "import time"
   ]
  },
  {
   "cell_type": "code",
   "execution_count": null,
   "outputs": [],
   "source": [
    "mainUrl='https://www.nerjstal.ru/catalog/nerzhaveyka/truba/'\n",
    "url2='https://www.nerjstal.ru'"
   ],
   "metadata": {
    "collapsed": false,
    "pycharm": {
     "name": "#%%\n"
    }
   }
  },
  {
   "cell_type": "code",
   "execution_count": null,
   "outputs": [],
   "source": [
    "class Tube():\n",
    "    name=None\n",
    "    marka=None\n",
    "    diam=None\n",
    "    thikness=None"
   ],
   "metadata": {
    "collapsed": false,
    "pycharm": {
     "name": "#%%\n"
    }
   }
  },
  {
   "cell_type": "code",
   "execution_count": null,
   "outputs": [],
   "source": [],
   "metadata": {
    "collapsed": false,
    "pycharm": {
     "name": "#%%\n"
    }
   }
  },
  {
   "cell_type": "code",
   "execution_count": null,
   "outputs": [],
   "source": [
    "ids=[]\n",
    "resp=requests.get(mainUrl)\n",
    "pageInfo=BeautifulSoup(resp.content,'lxml')\n",
    "for pi in pageInfo.findAll('div',class_='catalog-list-item__name tb__cell'):\n",
    "    ids.append(pi.find('a').get('href'))\n",
    "\n",
    "for i in range(2,64):\n",
    "    r=requests.get(mainUrl+'page'+str(i)+'/')\n",
    "    pi=BeautifulSoup(resp.content,'lxml')\n",
    "    for pi in pageInfo.findAll('div',class_='catalog-list-item__name tb__cell'):\n",
    "        ids.append(pi.find('a').get('href'))"
   ],
   "metadata": {
    "collapsed": false,
    "pycharm": {
     "name": "#%%\n"
    }
   }
  },
  {
   "cell_type": "code",
   "execution_count": null,
   "outputs": [],
   "source": [
    "def mainParser2(id_):\n",
    "    r=requests.get(url2+id_)\n",
    "    tubeInfo=BeautifulSoup(r.content,'lxml')\n",
    "    t=Tube()\n",
    "    t.name=tubeInfo.find('div',class_='page-title').text\n",
    "    t.marka=tubeInfo.find('div',class_='tabs__item tabs__item_visible tabs-item').findAll('div',class_='tb__row')[2].findAll('div',class_='tb__cell')[1].text\n",
    "    t.diam=tubeInfo.find('div',class_='tabs__item tabs__item_visible tabs-item').findAll('div',class_='tb__row')[3].findAll('div',class_='tb__cell')[1].text\n",
    "    t.thikness=tubeInfo.find('div',class_='tabs__item tabs__item_visible tabs-item').findAll('div',class_='tb__row')[4].findAll('div',class_='tb__cell')[1].text\n",
    "    tubes.append(t)\n",
    "    return t"
   ],
   "metadata": {
    "collapsed": false,
    "pycharm": {
     "name": "#%%\n"
    }
   }
  },
  {
   "cell_type": "markdown",
   "source": [
    "Один поток"
   ],
   "metadata": {
    "collapsed": false
   }
  },
  {
   "cell_type": "code",
   "execution_count": null,
   "outputs": [],
   "source": [
    "tubes_1=[]\n",
    "start = time.time()\n",
    "for i in ids:\n",
    "    tubes_1.append(mainParser2(i))\n",
    "print(f'Threading: {time.time() - start : .2f} seconds')"
   ],
   "metadata": {
    "collapsed": false,
    "pycharm": {
     "name": "#%%\n"
    }
   }
  },
  {
   "cell_type": "markdown",
   "source": [
    "Многопоточность"
   ],
   "metadata": {
    "collapsed": false
   }
  },
  {
   "cell_type": "code",
   "execution_count": null,
   "outputs": [],
   "source": [
    "tubes_2=[]\n",
    "\n",
    "def addTiList(a):\n",
    "    tubes_2.append(mainParser2(a))\n",
    "\n",
    "start = time.time()\n",
    "threads = []\n",
    "for id_ in ids:\n",
    "    thread = threading.Thread(target=addTiList, args=(id_,))\n",
    "    threads.append(thread)\n",
    "    thread.start()\n",
    "for thread in threads:\n",
    "    thread.join()\n",
    "print(f'Threading: {time.time() - start : .2f} seconds')"
   ],
   "metadata": {
    "collapsed": false,
    "pycharm": {
     "name": "#%%\n"
    }
   }
  },
  {
   "cell_type": "code",
   "execution_count": null,
   "outputs": [],
   "source": [
    "len(tubes_2)"
   ],
   "metadata": {
    "collapsed": false,
    "pycharm": {
     "name": "#%%\n"
    }
   }
  },
  {
   "cell_type": "code",
   "execution_count": null,
   "outputs": [],
   "source": [
    "for i in tubes_2:\n",
    "    print(i.name, i.marka,i.diam,i.thikness)"
   ],
   "metadata": {
    "collapsed": false,
    "pycharm": {
     "name": "#%%\n"
    }
   }
  },
  {
   "cell_type": "code",
   "execution_count": null,
   "outputs": [],
   "source": [
    "con = pymysql.connect('localhost','root','root','profiles')\n",
    "cursor = con.cursor()"
   ],
   "metadata": {
    "collapsed": false,
    "pycharm": {
     "name": "#%%\n"
    }
   }
  },
  {
   "cell_type": "code",
   "execution_count": null,
   "outputs": [],
   "source": [
    "createTable='CREATE TABLE tubes ('+\\\n",
    "    'id INT NOT NULL,'+\\\n",
    "    'name VARCHAR(100),'+\\\n",
    "    'marka VARCHAR(100),'+\\\n",
    "    'diametr VARCHAR(100),'+\\\n",
    "    'thikness VARCHAR(100),'+\\\n",
    "    'PRIMARY KEY(id))'"
   ],
   "metadata": {
    "collapsed": false,
    "pycharm": {
     "name": "#%%\n"
    }
   }
  },
  {
   "cell_type": "code",
   "execution_count": null,
   "outputs": [],
   "source": [
    "cursor.execute(createTable)"
   ],
   "metadata": {
    "collapsed": false,
    "pycharm": {
     "name": "#%%\n"
    }
   }
  },
  {
   "cell_type": "code",
   "execution_count": null,
   "outputs": [],
   "source": [
    "insertSQL='INSERT INTO companies (id, name, marka,  diametr, thikness) VALUES (%s, %s, %s, %s, %s)'"
   ],
   "metadata": {
    "collapsed": false,
    "pycharm": {
     "name": "#%%\n"
    }
   }
  },
  {
   "cell_type": "code",
   "execution_count": null,
   "outputs": [],
   "source": [
    "for i in tubes_2:\n",
    "    cursor.execut(insertSQL,(i.id_,i.name,i.marka,i.diametr,i.thikness))\n",
    "    con.commit()\n"
   ],
   "metadata": {
    "collapsed": false,
    "pycharm": {
     "name": "#%%\n"
    }
   }
  }
 ],
 "metadata": {
  "kernelspec": {
   "display_name": "Python 3",
   "language": "python",
   "name": "python3"
  },
  "language_info": {
   "codemirror_mode": {
    "name": "ipython",
    "version": 2
   },
   "file_extension": ".py",
   "mimetype": "text/x-python",
   "name": "python",
   "nbconvert_exporter": "python",
   "pygments_lexer": "ipython2",
   "version": "2.7.6"
  },
  "pycharm": {
   "stem_cell": {
    "cell_type": "raw",
    "source": [],
    "metadata": {
     "collapsed": false
    }
   }
  }
 },
 "nbformat": 4,
 "nbformat_minor": 0
}